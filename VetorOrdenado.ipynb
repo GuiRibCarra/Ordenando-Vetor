{
  "nbformat": 4,
  "nbformat_minor": 0,
  "metadata": {
    "colab": {
      "provenance": [],
      "authorship_tag": "ABX9TyMHRL8BU75harGC/mxDxwJq",
      "include_colab_link": true
    },
    "kernelspec": {
      "name": "python3",
      "display_name": "Python 3"
    },
    "language_info": {
      "name": "python"
    }
  },
  "cells": [
    {
      "cell_type": "markdown",
      "metadata": {
        "id": "view-in-github",
        "colab_type": "text"
      },
      "source": [
        "<a href=\"https://colab.research.google.com/github/GuiRibCarra/Ordenando-Vetor/blob/main/VetorOrdenado.ipynb\" target=\"_parent\"><img src=\"https://colab.research.google.com/assets/colab-badge.svg\" alt=\"Open In Colab\"/></a>"
      ]
    },
    {
      "cell_type": "code",
      "execution_count": 1,
      "metadata": {
        "id": "qiz4mAzx0LIt"
      },
      "outputs": [],
      "source": [
        "import numpy as np"
      ]
    },
    {
      "cell_type": "markdown",
      "source": [
        "Vetor Ordenado"
      ],
      "metadata": {
        "id": "XbmJP8p23GRH"
      }
    },
    {
      "cell_type": "code",
      "source": [
        "class VetorOrdenado:\n",
        "  def __init__(self,capacidade):\n",
        "    self.capacidade = capacidade\n",
        "    self.ultima_posicao = -1\n",
        "    self.valores = np.empty(self.capacidade,dtype=int)\n",
        "\n",
        "  def imprime(self):\n",
        "    if self.ultima_posicao == -1:\n",
        "      print(\"O vetor esta vazio\")\n",
        "    else:\n",
        "      for i in range(self.ultima_posicao + 1):\n",
        "        print(i,' -- ',self.valores[i])\n",
        "\n",
        "  def insere(self,valor):\n",
        "    if self.ultima_posicao == self.capacidade - 1:\n",
        "      print('Capacidade maxima atingida')\n",
        "      return\n",
        "\n",
        "    posicao = 0\n",
        "    for i in range(self.ultima_posicao +1):\n",
        "      posicao = i\n",
        "      if self.valores[i]>valor:\n",
        "        break\n",
        "      if i == self.ultima_posicao:\n",
        "        posicao = i + 1\n",
        "\n",
        "    x = self.ultima_posicao\n",
        "    while x >= posicao:\n",
        "      self.valores[x+1] = self.valores[x]\n",
        "      x-=1\n",
        "\n",
        "    self.valores[posicao] = valor\n",
        "    self.ultima_posicao += 1"
      ],
      "metadata": {
        "id": "MdUKxMXA3IMi"
      },
      "execution_count": 2,
      "outputs": []
    },
    {
      "cell_type": "code",
      "source": [
        "vetor = VetorOrdenado(10)\n",
        "vetor.imprime()"
      ],
      "metadata": {
        "id": "zT0JfuHG45nN",
        "colab": {
          "base_uri": "https://localhost:8080/"
        },
        "outputId": "c03dcfdd-1456-4896-900c-4e1a3e24f2a9"
      },
      "execution_count": 3,
      "outputs": [
        {
          "output_type": "stream",
          "name": "stdout",
          "text": [
            "O vetor esta vazio\n"
          ]
        }
      ]
    },
    {
      "cell_type": "code",
      "source": [
        "vetor.insere(6)\n",
        "vetor.imprime()\n",
        "print(\"--------------------------------------------------\")\n",
        "vetor.insere(4)\n",
        "vetor.imprime()\n",
        "print(\"--------------------------------------------------\")\n",
        "vetor.insere(5)\n",
        "vetor.imprime()\n",
        "print(\"--------------------------------------------------\")\n",
        "vetor.insere(1)\n",
        "vetor.imprime()\n",
        "print(\"--------------------------------------------------\")\n",
        "vetor.insere(8)\n",
        "vetor.imprime()"
      ],
      "metadata": {
        "id": "r8p1OZfW5ODj",
        "colab": {
          "base_uri": "https://localhost:8080/"
        },
        "outputId": "76cf88f1-251d-425b-cc0d-360f10beb3e9"
      },
      "execution_count": 4,
      "outputs": [
        {
          "output_type": "stream",
          "name": "stdout",
          "text": [
            "0  --  6\n",
            "--------------------------------------------------\n",
            "0  --  4\n",
            "1  --  6\n",
            "--------------------------------------------------\n",
            "0  --  4\n",
            "1  --  5\n",
            "2  --  6\n",
            "--------------------------------------------------\n",
            "0  --  1\n",
            "1  --  4\n",
            "2  --  5\n",
            "3  --  6\n",
            "--------------------------------------------------\n",
            "0  --  1\n",
            "1  --  4\n",
            "2  --  5\n",
            "3  --  6\n",
            "4  --  8\n"
          ]
        }
      ]
    }
  ]
}